{
 "cells": [
  {
   "cell_type": "markdown",
   "source": [
    "# Can You Bowl Three Strikes?\n",
    "\n",
    "### By Zach Wissner-Gross\n",
    "\n",
    "### Jun. 18, 2021, at 8:00 AM\n",
    "\n",
    "#### Riddler Express\n"
   ],
   "metadata": {
    "collapsed": false
   }
  },
  {
   "cell_type": "code",
   "execution_count": 1,
   "outputs": [
    {
     "name": "stdout",
     "output_type": "stream",
     "text": [
      "Magritte's expected bowling score is 41.3333!\n"
     ]
    }
   ],
   "source": [
    "from typing import List\n",
    "from math import factorial\n",
    "from itertools import combinations\n",
    "\n",
    "def expected_bowling_score(strikes : int, frames : int) -> int:\n",
    "  ''' Calculate the expected score of a bowler bowling 'strikes'\n",
    "  number of strikes, with 'frames' number of frames, assuming\n",
    "  they only bowl strikes and there are no bonus frames if strike\n",
    "  on last frame.\n",
    "  '''\n",
    "\n",
    "  def _score(frames: List[int]) -> int:\n",
    "    ''' Score a bowling frame given only strikes\n",
    "    and no extra frames. 1 denotes strikes\n",
    "    '''\n",
    "\n",
    "    score = 0\n",
    "\n",
    "    # Append empty frames for last bowl\n",
    "    frames.extend([0,0])\n",
    "\n",
    "    for i,bowl in enumerate(frames):\n",
    "\n",
    "      # Gutter ball!\n",
    "      if bowl == 0: continue\n",
    "\n",
    "      # Strike plus next two frames\n",
    "      score += (10 + 10*frames[i+1] + 10*frames[i+2])\n",
    "\n",
    "    return score\n",
    "\n",
    "  # Calculate expected values of strikes in bowling\n",
    "  # given no extra frames\n",
    "\n",
    "  # E[X] = Sum(P(X) * X)\n",
    "  # xince constant P(X) = 1/ strikesCframes\n",
    "  # E[x] = Sum(X) / sCr\n",
    "\n",
    "\n",
    "  expected_score = 0\n",
    "\n",
    "  combos = combinations(range(frames),strikes)\n",
    "\n",
    "\n",
    "  # Iterate through all 10c3 combinations of bowling\n",
    "  for combo in combos:\n",
    "\n",
    "    frames_ = [0] * frames\n",
    "\n",
    "    # Score them:\n",
    "    for idx in combo:\n",
    "      frames_[idx] = 1\n",
    "\n",
    "    # Add X to expected score\n",
    "    expected_score += _score(frames_)\n",
    "\n",
    "  return expected_score / (factorial(frames) / (factorial(frames - strikes)*factorial(strikes)))\n",
    "\n",
    "Magritte_expectations = expected_bowling_score(3,10)\n",
    "\n",
    "\n",
    "print(f\"Magritte's expected bowling score is {Magritte_expectations:.4f}!\")"
   ],
   "metadata": {
    "collapsed": false,
    "pycharm": {
     "name": "#%%\n"
    }
   }
  }
 ],
 "metadata": {
  "kernelspec": {
   "name": "pycharm-d8e57be9",
   "language": "python",
   "display_name": "PyCharm (FiveThirtyEightRiddler)"
  },
  "language_info": {
   "codemirror_mode": {
    "name": "ipython",
    "version": 2
   },
   "file_extension": ".py",
   "mimetype": "text/x-python",
   "name": "python",
   "nbconvert_exporter": "python",
   "pygments_lexer": "ipython2",
   "version": "2.7.6"
  }
 },
 "nbformat": 4,
 "nbformat_minor": 0
}